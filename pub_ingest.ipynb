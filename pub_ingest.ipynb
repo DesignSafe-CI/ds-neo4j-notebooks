{
 "cells": [
  {
   "cell_type": "code",
   "execution_count": 1,
   "id": "77b99897-ef15-4611-9b4d-2286bed2db89",
   "metadata": {},
   "outputs": [],
   "source": [
    "import neo4j\n",
    "from neo4j import GraphDatabase, RoutingControl\n",
    "import networkx as nx\n",
    "import requests"
   ]
  },
  {
   "cell_type": "code",
   "execution_count": 2,
   "id": "f67b628a-1e52-48ee-a1c5-56ea719e17aa",
   "metadata": {},
   "outputs": [],
   "source": [
    "pub_listing_url = \"https://www.designsafe-ci.org/api/publications/v2\"\n",
    "\n",
    "def get_ds_pubs():\n",
    "    \"\"\"Return a generator of top-level publication metadata\"\"\"\n",
    "    offset = 0\n",
    "    limit = 100\n",
    "    res_length = 100\n",
    "    while res_length == 100:\n",
    "        res = requests.get(pub_listing_url, params={\"offset\": offset, \"limit\": limit})\n",
    "        res_json = res.json()\n",
    "\n",
    "        yield from res_json[\"result\"]\n",
    "        res_length = len(res_json[\"result\"])\n",
    "        offset += 100\n",
    "\n",
    "\n",
    "def get_publication(project_id: str):\n",
    "    \"\"\"Retrieve published metadata using the project ID.\"\"\"\n",
    "    res = requests.get(f\"{pub_listing_url}/{project_id}\")\n",
    "    return res.json()\n",
    "\n",
    "\n",
    "def iterate_publications():\n",
    "    \"\"\"Generator of all published metadata\"\"\"\n",
    "    for pub in get_ds_pubs():\n",
    "        if pub[\"type\"] not in [\"other\", \"field_reconnaissance\"]:\n",
    "            yield get_publication(pub[\"projectId\"])"
   ]
  },
  {
   "cell_type": "code",
   "execution_count": 3,
   "id": "b8fd4f6c-feec-43b8-9a53-2b9d8c0a4bee",
   "metadata": {},
   "outputs": [],
   "source": [
    "URI = \"neo4j://localhost:7687\""
   ]
  },
  {
   "cell_type": "code",
   "execution_count": 4,
   "id": "125b475c-b15c-4f5f-8c7b-310e29b2245f",
   "metadata": {},
   "outputs": [],
   "source": [
    "def setup_db(driver: neo4j.Driver):\n",
    "    \"\"\"Create constraints/indices for DesignSafe entities\"\"\"\n",
    "    driver.execute_query(\"\"\"\n",
    "\n",
    "    CREATE INDEX entity_uuid IF NOT EXISTS FOR (e:Entity) ON e.uuid\n",
    "    \"\"\")\n",
    "\n",
    "\n",
    "def cleanup_db(driver: neo4j.Driver):\n",
    "    \"\"\"Clear all entries in the database\"\"\"\n",
    "    driver.execute_query(\"MATCH (n) DETACH DELETE n\")"
   ]
  },
  {
   "cell_type": "code",
   "execution_count": 5,
   "id": "60e69f3f-a775-40d9-8b4d-1f9c5d522563",
   "metadata": {},
   "outputs": [],
   "source": [
    "def ingest_entity(driver: neo4j.Driver, uuid: str, title: str, description: str, **kwargs):\n",
    "    \"\"\"\n",
    "    Ingest an entity in neo4j. Its properties will be the provided uuid/title/description \n",
    "    and any other provided kwargs. If 'name' is provided it will be used as an additional label\n",
    "    \"\"\"\n",
    "    label = \":Entity\"\n",
    "    # Replacing spaces with underscores\n",
    "    if 'name' in kwargs and kwargs[\"name\"]:\n",
    "        label += f\"`:{'_'.join(kwargs['name'].split())}`\" \n",
    "        \n",
    "    extra_fields = [f\"{k}: ${k}\" for k in kwargs]\n",
    "    extra_fields_str = \"\"\n",
    "    if extra_fields:\n",
    "        extra_fields_str = \", \" + \", \".join(extra_fields)\n",
    "    add_entity_query = \\\n",
    "    f\"\"\"\n",
    "    MERGE (e{label} {{uuid: $uuid}})\n",
    "    SET e = {{uuid: $uuid}} // Allow properties to be unset with subsequent calls\n",
    "    SET e += {{ title: $title,\n",
    "                description: $description\n",
    "                {extra_fields_str}\n",
    "             }}\n",
    "    \"\"\"\n",
    "    driver.execute_query(add_entity_query, uuid=uuid, title=title, description=description, **kwargs)\n",
    "\n",
    "\n",
    "def ingest_entity_rel(driver: neo4j.Driver, parent_uuid: str, child_uuid: str, order: int=0):\n",
    "    \"\"\"\n",
    "    Create a :HAS_CHILD relationship in the graph between 2 nodes given their UUIDs\n",
    "    \"\"\"\n",
    "    add_rel_query = \\\n",
    "    \"\"\"\n",
    "    MATCH (parent:Entity {uuid: $parent_uuid}) \n",
    "    WITH parent \n",
    "    MATCH(child: Entity {uuid: $child_uuid}) \n",
    "    MERGE (parent)-[:HAS_CHILD {order: $order}]->(child)\n",
    "    \"\"\"\n",
    "    driver.execute_query(add_rel_query, parent_uuid=parent_uuid, child_uuid=child_uuid, order=order)\n"
   ]
  },
  {
   "cell_type": "code",
   "execution_count": 6,
   "id": "0fc76156-2d55-4385-86a3-979cc2b0672d",
   "metadata": {},
   "outputs": [
    {
     "ename": "CypherSyntaxError",
     "evalue": "{code: Neo.ClientError.Statement.SyntaxError} {message: Invalid input '`:designsafe.project`': expected a parameter, '&', ')', ':', 'WHERE', '{' or '|' (line 2, column 20 (offset: 20))\n\"    MERGE (e:Entity`:designsafe.project` {uuid: $uuid})\"\n                    ^}",
     "output_type": "error",
     "traceback": [
      "\u001b[31m---------------------------------------------------------------------------\u001b[39m",
      "\u001b[31mGqlError\u001b[39m                                  Traceback (most recent call last)",
      "\u001b[31mGqlError\u001b[39m: {gql_status: 42I06} {gql_status_description: error: syntax error or access rule violation - invalid input. Invalid input '`:designsafe.project`', expected: a parameter, '&', ')', ':', 'WHERE', '{' or '|'.} {message: 42I06: Invalid input '`:designsafe.project`', expected: a parameter, '&', ')', ':', 'WHERE', '{' or '|'.} {diagnostic_record: {'_classification': 'CLIENT_ERROR', '_position': {'column': 20, 'offset': 20, 'line': 2}, 'OPERATION': '', 'OPERATION_CODE': '0', 'CURRENT_SCHEMA': '/'}} {raw_classification: CLIENT_ERROR}",
      "\nThe above exception was the direct cause of the following exception:\n",
      "\u001b[31mCypherSyntaxError\u001b[39m                         Traceback (most recent call last)",
      "\u001b[36mCell\u001b[39m\u001b[36m \u001b[39m\u001b[32mIn[6]\u001b[39m\u001b[32m, line 16\u001b[39m\n\u001b[32m     14\u001b[39m meta_uuid = node_data[\u001b[33m\"\u001b[39m\u001b[33muuid\u001b[39m\u001b[33m\"\u001b[39m]\n\u001b[32m     15\u001b[39m description = node_data[\u001b[33m\"\u001b[39m\u001b[33mvalue\u001b[39m\u001b[33m\"\u001b[39m].get(\u001b[33m\"\u001b[39m\u001b[33mdescription\u001b[39m\u001b[33m\"\u001b[39m, \u001b[38;5;28;01mNone\u001b[39;00m)\n\u001b[32m---> \u001b[39m\u001b[32m16\u001b[39m \u001b[43mingest_entity\u001b[49m\u001b[43m(\u001b[49m\u001b[43mdriver\u001b[49m\u001b[43m,\u001b[49m\u001b[43m \u001b[49m\u001b[43muuid\u001b[49m\u001b[43m,\u001b[49m\u001b[43m \u001b[49m\u001b[43mtitle\u001b[49m\u001b[43m,\u001b[49m\u001b[43m \u001b[49m\u001b[43mdescription\u001b[49m\u001b[43m,\u001b[49m\u001b[43m \u001b[49m\u001b[43mname\u001b[49m\u001b[43m=\u001b[49m\u001b[43mname\u001b[49m\u001b[43m,\u001b[49m\u001b[43m \u001b[49m\u001b[43mmeta_uuid\u001b[49m\u001b[43m=\u001b[49m\u001b[43mmeta_uuid\u001b[49m\u001b[43m)\u001b[49m\n",
      "\u001b[36mCell\u001b[39m\u001b[36m \u001b[39m\u001b[32mIn[5]\u001b[39m\u001b[32m, line 24\u001b[39m, in \u001b[36mingest_entity\u001b[39m\u001b[34m(driver, uuid, title, description, **kwargs)\u001b[39m\n\u001b[32m     14\u001b[39m     extra_fields_str = \u001b[33m\"\u001b[39m\u001b[33m, \u001b[39m\u001b[33m\"\u001b[39m + \u001b[33m\"\u001b[39m\u001b[33m, \u001b[39m\u001b[33m\"\u001b[39m.join(extra_fields)\n\u001b[32m     15\u001b[39m add_entity_query = \\\n\u001b[32m     16\u001b[39m \u001b[33mf\u001b[39m\u001b[33m\"\"\"\u001b[39m\n\u001b[32m     17\u001b[39m \u001b[33mMERGE (e\u001b[39m\u001b[38;5;132;01m{\u001b[39;00mlabel\u001b[38;5;132;01m}\u001b[39;00m\u001b[33m \u001b[39m\u001b[38;5;130;01m{{\u001b[39;00m\u001b[33muuid: $uuid\u001b[39m\u001b[38;5;130;01m}}\u001b[39;00m\u001b[33m)\u001b[39m\n\u001b[32m   (...)\u001b[39m\u001b[32m     22\u001b[39m \u001b[33m         \u001b[39m\u001b[38;5;130;01m}}\u001b[39;00m\n\u001b[32m     23\u001b[39m \u001b[33m\u001b[39m\u001b[33m\"\"\"\u001b[39m\n\u001b[32m---> \u001b[39m\u001b[32m24\u001b[39m \u001b[43mdriver\u001b[49m\u001b[43m.\u001b[49m\u001b[43mexecute_query\u001b[49m\u001b[43m(\u001b[49m\u001b[43madd_entity_query\u001b[49m\u001b[43m,\u001b[49m\u001b[43m \u001b[49m\u001b[43muuid\u001b[49m\u001b[43m=\u001b[49m\u001b[43muuid\u001b[49m\u001b[43m,\u001b[49m\u001b[43m \u001b[49m\u001b[43mtitle\u001b[49m\u001b[43m=\u001b[49m\u001b[43mtitle\u001b[49m\u001b[43m,\u001b[49m\u001b[43m \u001b[49m\u001b[43mdescription\u001b[49m\u001b[43m=\u001b[49m\u001b[43mdescription\u001b[49m\u001b[43m,\u001b[49m\u001b[43m \u001b[49m\u001b[43m*\u001b[49m\u001b[43m*\u001b[49m\u001b[43mkwargs\u001b[49m\u001b[43m)\u001b[49m\n",
      "\u001b[36mFile \u001b[39m\u001b[32m~/Documents/ds-neo4j-notebooks/.venv/lib/python3.12/site-packages/neo4j/_sync/driver.py:970\u001b[39m, in \u001b[36mDriver.execute_query\u001b[39m\u001b[34m(self, query_, parameters_, routing_, database_, impersonated_user_, bookmark_manager_, auth_, result_transformer_, **kwargs)\u001b[39m\n\u001b[32m    966\u001b[39m     \u001b[38;5;28;01mraise\u001b[39;00m \u001b[38;5;167;01mValueError\u001b[39;00m(\n\u001b[32m    967\u001b[39m         \u001b[33mf\u001b[39m\u001b[33m\"\u001b[39m\u001b[33mInvalid routing control value: \u001b[39m\u001b[38;5;132;01m{\u001b[39;00mrouting_\u001b[38;5;132;01m!r}\u001b[39;00m\u001b[33m\"\u001b[39m\n\u001b[32m    968\u001b[39m     )\n\u001b[32m    969\u001b[39m \u001b[38;5;28;01mwith\u001b[39;00m session._pipelined_begin:\n\u001b[32m--> \u001b[39m\u001b[32m970\u001b[39m     \u001b[38;5;28;01mreturn\u001b[39;00m \u001b[43msession\u001b[49m\u001b[43m.\u001b[49m\u001b[43m_run_transaction\u001b[49m\u001b[43m(\u001b[49m\n\u001b[32m    971\u001b[39m \u001b[43m        \u001b[49m\u001b[43maccess_mode\u001b[49m\u001b[43m,\u001b[49m\n\u001b[32m    972\u001b[39m \u001b[43m        \u001b[49m\u001b[43mTelemetryAPI\u001b[49m\u001b[43m.\u001b[49m\u001b[43mDRIVER\u001b[49m\u001b[43m,\u001b[49m\n\u001b[32m    973\u001b[39m \u001b[43m        \u001b[49m\u001b[43mwork\u001b[49m\u001b[43m,\u001b[49m\n\u001b[32m    974\u001b[39m \u001b[43m        \u001b[49m\u001b[43m(\u001b[49m\u001b[43mquery_str\u001b[49m\u001b[43m,\u001b[49m\u001b[43m \u001b[49m\u001b[43mparameters\u001b[49m\u001b[43m,\u001b[49m\u001b[43m \u001b[49m\u001b[43mresult_transformer_\u001b[49m\u001b[43m)\u001b[49m\u001b[43m,\u001b[49m\n\u001b[32m    975\u001b[39m \u001b[43m        \u001b[49m\u001b[43m{\u001b[49m\u001b[43m}\u001b[49m\u001b[43m,\u001b[49m\n\u001b[32m    976\u001b[39m \u001b[43m    \u001b[49m\u001b[43m)\u001b[49m\n",
      "\u001b[36mFile \u001b[39m\u001b[32m~/Documents/ds-neo4j-notebooks/.venv/lib/python3.12/site-packages/neo4j/_sync/work/session.py:583\u001b[39m, in \u001b[36mSession._run_transaction\u001b[39m\u001b[34m(self, access_mode, api, transaction_function, args, kwargs)\u001b[39m\n\u001b[32m    581\u001b[39m tx = \u001b[38;5;28mself\u001b[39m._transaction\n\u001b[32m    582\u001b[39m \u001b[38;5;28;01mtry\u001b[39;00m:\n\u001b[32m--> \u001b[39m\u001b[32m583\u001b[39m     result = \u001b[43mtransaction_function\u001b[49m\u001b[43m(\u001b[49m\u001b[43mtx\u001b[49m\u001b[43m,\u001b[49m\u001b[43m \u001b[49m\u001b[43m*\u001b[49m\u001b[43margs\u001b[49m\u001b[43m,\u001b[49m\u001b[43m \u001b[49m\u001b[43m*\u001b[49m\u001b[43m*\u001b[49m\u001b[43mkwargs\u001b[49m\u001b[43m)\u001b[49m\n\u001b[32m    584\u001b[39m \u001b[38;5;28;01mexcept\u001b[39;00m asyncio.CancelledError:\n\u001b[32m    585\u001b[39m     \u001b[38;5;66;03m# if cancellation callback has not been called yet:\u001b[39;00m\n\u001b[32m    586\u001b[39m     \u001b[38;5;28;01mif\u001b[39;00m \u001b[38;5;28mself\u001b[39m._transaction \u001b[38;5;129;01mis\u001b[39;00m \u001b[38;5;129;01mnot\u001b[39;00m \u001b[38;5;28;01mNone\u001b[39;00m:\n",
      "\u001b[36mFile \u001b[39m\u001b[32m~/Documents/ds-neo4j-notebooks/.venv/lib/python3.12/site-packages/neo4j/_sync/driver.py:1306\u001b[39m, in \u001b[36m_work\u001b[39m\u001b[34m(tx, query, parameters, transformer)\u001b[39m\n\u001b[32m   1300\u001b[39m \u001b[38;5;28;01mdef\u001b[39;00m\u001b[38;5;250m \u001b[39m\u001b[34m_work\u001b[39m(\n\u001b[32m   1301\u001b[39m     tx: ManagedTransaction,\n\u001b[32m   1302\u001b[39m     query: te.LiteralString,\n\u001b[32m   1303\u001b[39m     parameters: \u001b[38;5;28mdict\u001b[39m[\u001b[38;5;28mstr\u001b[39m, t.Any],\n\u001b[32m   1304\u001b[39m     transformer: t.Callable[[Result], t.Union[_T]],\n\u001b[32m   1305\u001b[39m ) -> _T:\n\u001b[32m-> \u001b[39m\u001b[32m1306\u001b[39m     res = \u001b[43mtx\u001b[49m\u001b[43m.\u001b[49m\u001b[43mrun\u001b[49m\u001b[43m(\u001b[49m\u001b[43mquery\u001b[49m\u001b[43m,\u001b[49m\u001b[43m \u001b[49m\u001b[43mparameters\u001b[49m\u001b[43m)\u001b[49m\n\u001b[32m   1307\u001b[39m     \u001b[38;5;28;01mreturn\u001b[39;00m transformer(res)\n",
      "\u001b[36mFile \u001b[39m\u001b[32m~/Documents/ds-neo4j-notebooks/.venv/lib/python3.12/site-packages/neo4j/_sync/work/transaction.py:206\u001b[39m, in \u001b[36mTransactionBase.run\u001b[39m\u001b[34m(self, query, parameters, **kwparameters)\u001b[39m\n\u001b[32m    203\u001b[39m \u001b[38;5;28mself\u001b[39m._results.append(result)\n\u001b[32m    205\u001b[39m parameters = \u001b[38;5;28mdict\u001b[39m(parameters \u001b[38;5;129;01mor\u001b[39;00m {}, **kwparameters)\n\u001b[32m--> \u001b[39m\u001b[32m206\u001b[39m \u001b[43mresult\u001b[49m\u001b[43m.\u001b[49m\u001b[43m_tx_ready_run\u001b[49m\u001b[43m(\u001b[49m\u001b[43mquery\u001b[49m\u001b[43m,\u001b[49m\u001b[43m \u001b[49m\u001b[43mparameters\u001b[49m\u001b[43m)\u001b[49m\n\u001b[32m    208\u001b[39m \u001b[38;5;28;01mreturn\u001b[39;00m result\n",
      "\u001b[36mFile \u001b[39m\u001b[32m~/Documents/ds-neo4j-notebooks/.venv/lib/python3.12/site-packages/neo4j/_sync/work/result.py:177\u001b[39m, in \u001b[36mResult._tx_ready_run\u001b[39m\u001b[34m(self, query, parameters)\u001b[39m\n\u001b[32m    173\u001b[39m \u001b[38;5;28;01mdef\u001b[39;00m\u001b[38;5;250m \u001b[39m\u001b[34m_tx_ready_run\u001b[39m(\u001b[38;5;28mself\u001b[39m, query, parameters):\n\u001b[32m    174\u001b[39m     \u001b[38;5;66;03m# BEGIN+RUN does not carry any extra on the RUN message.\u001b[39;00m\n\u001b[32m    175\u001b[39m     \u001b[38;5;66;03m# BEGIN {extra}\u001b[39;00m\n\u001b[32m    176\u001b[39m     \u001b[38;5;66;03m# RUN \"query\" {parameters} {extra}\u001b[39;00m\n\u001b[32m--> \u001b[39m\u001b[32m177\u001b[39m     \u001b[38;5;28;43mself\u001b[39;49m\u001b[43m.\u001b[49m\u001b[43m_run\u001b[49m\u001b[43m(\u001b[49m\u001b[43mquery\u001b[49m\u001b[43m,\u001b[49m\u001b[43m \u001b[49m\u001b[43mparameters\u001b[49m\u001b[43m,\u001b[49m\u001b[43m \u001b[49m\u001b[38;5;28;43;01mNone\u001b[39;49;00m\u001b[43m,\u001b[49m\u001b[43m \u001b[49m\u001b[38;5;28;43;01mNone\u001b[39;49;00m\u001b[43m,\u001b[49m\u001b[43m \u001b[49m\u001b[38;5;28;43;01mNone\u001b[39;49;00m\u001b[43m,\u001b[49m\u001b[43m \u001b[49m\u001b[38;5;28;43;01mNone\u001b[39;49;00m\u001b[43m,\u001b[49m\u001b[43m \u001b[49m\u001b[38;5;28;43;01mNone\u001b[39;49;00m\u001b[43m,\u001b[49m\u001b[43m \u001b[49m\u001b[38;5;28;43;01mNone\u001b[39;49;00m\u001b[43m)\u001b[49m\n",
      "\u001b[36mFile \u001b[39m\u001b[32m~/Documents/ds-neo4j-notebooks/.venv/lib/python3.12/site-packages/neo4j/_sync/work/result.py:236\u001b[39m, in \u001b[36mResult._run\u001b[39m\u001b[34m(self, query, parameters, db, imp_user, access_mode, bookmarks, notifications_min_severity, notifications_disabled_classifications)\u001b[39m\n\u001b[32m    234\u001b[39m \u001b[38;5;28mself\u001b[39m._pull()\n\u001b[32m    235\u001b[39m \u001b[38;5;28mself\u001b[39m._connection.send_all()\n\u001b[32m--> \u001b[39m\u001b[32m236\u001b[39m \u001b[38;5;28;43mself\u001b[39;49m\u001b[43m.\u001b[49m\u001b[43m_attach\u001b[49m\u001b[43m(\u001b[49m\u001b[43m)\u001b[49m\n",
      "\u001b[36mFile \u001b[39m\u001b[32m~/Documents/ds-neo4j-notebooks/.venv/lib/python3.12/site-packages/neo4j/_sync/work/result.py:430\u001b[39m, in \u001b[36mResult._attach\u001b[39m\u001b[34m(self)\u001b[39m\n\u001b[32m    428\u001b[39m \u001b[38;5;28;01mif\u001b[39;00m \u001b[38;5;28mself\u001b[39m._exhausted \u001b[38;5;129;01mis\u001b[39;00m \u001b[38;5;28;01mFalse\u001b[39;00m:\n\u001b[32m    429\u001b[39m     \u001b[38;5;28;01mwhile\u001b[39;00m \u001b[38;5;28mself\u001b[39m._attached \u001b[38;5;129;01mis\u001b[39;00m \u001b[38;5;28;01mFalse\u001b[39;00m:\n\u001b[32m--> \u001b[39m\u001b[32m430\u001b[39m         \u001b[38;5;28;43mself\u001b[39;49m\u001b[43m.\u001b[49m\u001b[43m_connection\u001b[49m\u001b[43m.\u001b[49m\u001b[43mfetch_message\u001b[49m\u001b[43m(\u001b[49m\u001b[43m)\u001b[49m\n",
      "\u001b[36mFile \u001b[39m\u001b[32m~/Documents/ds-neo4j-notebooks/.venv/lib/python3.12/site-packages/neo4j/_sync/io/_common.py:184\u001b[39m, in \u001b[36mConnectionErrorHandler.__getattr__.<locals>.outer.<locals>.inner\u001b[39m\u001b[34m(*args, **kwargs)\u001b[39m\n\u001b[32m    182\u001b[39m \u001b[38;5;28;01mdef\u001b[39;00m\u001b[38;5;250m \u001b[39m\u001b[34minner\u001b[39m(*args, **kwargs):\n\u001b[32m    183\u001b[39m     \u001b[38;5;28;01mtry\u001b[39;00m:\n\u001b[32m--> \u001b[39m\u001b[32m184\u001b[39m         \u001b[43mfunc\u001b[49m\u001b[43m(\u001b[49m\u001b[43m*\u001b[49m\u001b[43margs\u001b[49m\u001b[43m,\u001b[49m\u001b[43m \u001b[49m\u001b[43m*\u001b[49m\u001b[43m*\u001b[49m\u001b[43mkwargs\u001b[49m\u001b[43m)\u001b[49m\n\u001b[32m    185\u001b[39m     \u001b[38;5;28;01mexcept\u001b[39;00m (Neo4jError, ServiceUnavailable, SessionExpired) \u001b[38;5;28;01mas\u001b[39;00m exc:\n\u001b[32m    186\u001b[39m         \u001b[38;5;28;01massert\u001b[39;00m \u001b[38;5;129;01mnot\u001b[39;00m asyncio.iscoroutinefunction(\u001b[38;5;28mself\u001b[39m.__on_error)\n",
      "\u001b[36mFile \u001b[39m\u001b[32m~/Documents/ds-neo4j-notebooks/.venv/lib/python3.12/site-packages/neo4j/_sync/io/_bolt.py:864\u001b[39m, in \u001b[36mBolt.fetch_message\u001b[39m\u001b[34m(self)\u001b[39m\n\u001b[32m    860\u001b[39m \u001b[38;5;66;03m# Receive exactly one message\u001b[39;00m\n\u001b[32m    861\u001b[39m tag, fields = \u001b[38;5;28mself\u001b[39m.inbox.pop(\n\u001b[32m    862\u001b[39m     hydration_hooks=\u001b[38;5;28mself\u001b[39m.responses[\u001b[32m0\u001b[39m].hydration_hooks\n\u001b[32m    863\u001b[39m )\n\u001b[32m--> \u001b[39m\u001b[32m864\u001b[39m res = \u001b[38;5;28;43mself\u001b[39;49m\u001b[43m.\u001b[49m\u001b[43m_process_message\u001b[49m\u001b[43m(\u001b[49m\u001b[43mtag\u001b[49m\u001b[43m,\u001b[49m\u001b[43m \u001b[49m\u001b[43mfields\u001b[49m\u001b[43m)\u001b[49m\n\u001b[32m    865\u001b[39m \u001b[38;5;28mself\u001b[39m.idle_since = monotonic()\n\u001b[32m    866\u001b[39m \u001b[38;5;28;01mreturn\u001b[39;00m res\n",
      "\u001b[36mFile \u001b[39m\u001b[32m~/Documents/ds-neo4j-notebooks/.venv/lib/python3.12/site-packages/neo4j/_sync/io/_bolt5.py:1208\u001b[39m, in \u001b[36mBolt5x7._process_message\u001b[39m\u001b[34m(self, tag, fields)\u001b[39m\n\u001b[32m   1206\u001b[39m \u001b[38;5;28mself\u001b[39m._enrich_error_diagnostic_record(summary_metadata)\n\u001b[32m   1207\u001b[39m \u001b[38;5;28;01mtry\u001b[39;00m:\n\u001b[32m-> \u001b[39m\u001b[32m1208\u001b[39m     \u001b[43mresponse\u001b[49m\u001b[43m.\u001b[49m\u001b[43mon_failure\u001b[49m\u001b[43m(\u001b[49m\u001b[43msummary_metadata\u001b[49m\u001b[43m \u001b[49m\u001b[38;5;129;43;01mor\u001b[39;49;00m\u001b[43m \u001b[49m\u001b[43m{\u001b[49m\u001b[43m}\u001b[49m\u001b[43m)\u001b[49m\n\u001b[32m   1209\u001b[39m \u001b[38;5;28;01mexcept\u001b[39;00m (ServiceUnavailable, DatabaseUnavailable):\n\u001b[32m   1210\u001b[39m     \u001b[38;5;28;01mif\u001b[39;00m \u001b[38;5;28mself\u001b[39m.pool:\n",
      "\u001b[36mFile \u001b[39m\u001b[32m~/Documents/ds-neo4j-notebooks/.venv/lib/python3.12/site-packages/neo4j/_sync/io/_common.py:254\u001b[39m, in \u001b[36mResponse.on_failure\u001b[39m\u001b[34m(self, metadata)\u001b[39m\n\u001b[32m    252\u001b[39m handler = \u001b[38;5;28mself\u001b[39m.handlers.get(\u001b[33m\"\u001b[39m\u001b[33mon_summary\u001b[39m\u001b[33m\"\u001b[39m)\n\u001b[32m    253\u001b[39m Util.callback(handler)\n\u001b[32m--> \u001b[39m\u001b[32m254\u001b[39m \u001b[38;5;28;01mraise\u001b[39;00m \u001b[38;5;28mself\u001b[39m._hydrate_error(metadata)\n",
      "\u001b[31mCypherSyntaxError\u001b[39m: {code: Neo.ClientError.Statement.SyntaxError} {message: Invalid input '`:designsafe.project`': expected a parameter, '&', ')', ':', 'WHERE', '{' or '|' (line 2, column 20 (offset: 20))\n\"    MERGE (e:Entity`:designsafe.project` {uuid: $uuid})\"\n                    ^}"
     ]
    }
   ],
   "source": [
    "pub_json = get_publication(\"PRJ-1811\")\n",
    "\n",
    "with GraphDatabase.driver(URI) as driver:\n",
    "    setup_db(driver)\n",
    "\n",
    "# Create a node in the neo4j graph for every node in the project tree\n",
    "with GraphDatabase.driver(URI) as driver:\n",
    "    pub_tree = nx.tree_graph(pub_json['tree'])\n",
    "    for node in pub_tree.nodes:\n",
    "        node_data = pub_tree.nodes[node]\n",
    "        title = node_data[\"value\"][\"title\"]\n",
    "        uuid = node\n",
    "        name = node_data[\"name\"]\n",
    "        meta_uuid = node_data[\"uuid\"]\n",
    "        description = node_data[\"value\"].get(\"description\", None)\n",
    "        ingest_entity(driver, uuid, title, description, name=name, meta_uuid=meta_uuid)\n"
   ]
  },
  {
   "cell_type": "code",
   "execution_count": 9,
   "id": "d3a25a0a-0c6b-4cee-a0a2-5e450b7b551a",
   "metadata": {},
   "outputs": [],
   "source": [
    "# Get a dictionary mapping each node ID to its parent in the tree\n",
    "dfs_pred = nx.dfs_predecessors(pub_tree, 'NODE_ROOT')\n",
    "\n",
    "# Go through each relationship and insert an edge in the graph\n",
    "with GraphDatabase.driver(URI) as driver:\n",
    "    for key in dfs_pred:\n",
    "        child_uuid = key\n",
    "        parent_uuid = dfs_pred[key]\n",
    "        order = pub_tree.nodes[key].get(\"order\", 0)\n",
    "        ingest_entity_rel(driver, parent_uuid, child_uuid, order)\n"
   ]
  },
  {
   "cell_type": "code",
   "execution_count": 10,
   "id": "f383ac55-7fa1-4540-aaab-a86d45753d46",
   "metadata": {},
   "outputs": [],
   "source": [
    "# Run this to clean up the db if something goes wrong\n",
    "with GraphDatabase.driver(URI) as driver:\n",
    "    cleanup_db(driver)"
   ]
  },
  {
   "cell_type": "code",
   "execution_count": null,
   "id": "60a25230",
   "metadata": {},
   "outputs": [],
   "source": []
  }
 ],
 "metadata": {
  "kernelspec": {
   "display_name": "Python 3 (ipykernel)",
   "language": "python",
   "name": "python3"
  },
  "language_info": {
   "codemirror_mode": {
    "name": "ipython",
    "version": 3
   },
   "file_extension": ".py",
   "mimetype": "text/x-python",
   "name": "python",
   "nbconvert_exporter": "python",
   "pygments_lexer": "ipython3",
   "version": "3.12.9"
  }
 },
 "nbformat": 4,
 "nbformat_minor": 5
}
