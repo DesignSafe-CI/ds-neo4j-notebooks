{
 "cells": [
  {
   "cell_type": "code",
   "execution_count": 3,
   "id": "77b99897-ef15-4611-9b4d-2286bed2db89",
   "metadata": {},
   "outputs": [],
   "source": [
    "import neo4j\n",
    "from neo4j import GraphDatabase, RoutingControl\n",
    "import networkx as nx\n",
    "import requests"
   ]
  },
  {
   "cell_type": "code",
   "execution_count": 4,
   "id": "f67b628a-1e52-48ee-a1c5-56ea719e17aa",
   "metadata": {},
   "outputs": [],
   "source": [
    "pub_listing_url = \"https://www.designsafe-ci.org/api/publications/v2\"\n",
    "\n",
    "def get_ds_pubs():\n",
    "    \"\"\"Return a generator of top-level publication metadata\"\"\"\n",
    "    offset = 0\n",
    "    limit = 100\n",
    "    res_length = 100\n",
    "    while res_length == 100:\n",
    "        res = requests.get(pub_listing_url, params={\"offset\": offset, \"limit\": limit})\n",
    "        res_json = res.json()\n",
    "\n",
    "        yield from res_json[\"result\"]\n",
    "        res_length = len(res_json[\"result\"])\n",
    "        offset += 100\n",
    "\n",
    "\n",
    "def get_publication(project_id: str):\n",
    "    \"\"\"Retrieve published metadata using the project ID.\"\"\"\n",
    "    res = requests.get(f\"{pub_listing_url}/{project_id}\")\n",
    "    return res.json()\n",
    "\n",
    "\n",
    "def iterate_publications():\n",
    "    \"\"\"Generator of all published metadata\"\"\"\n",
    "    for pub in get_ds_pubs():\n",
    "        if pub[\"type\"] not in [\"other\", \"field_reconnaissance\"]:\n",
    "            yield get_publication(pub[\"projectId\"])"
   ]
  },
  {
   "cell_type": "code",
   "execution_count": 5,
   "id": "b8fd4f6c-feec-43b8-9a53-2b9d8c0a4bee",
   "metadata": {},
   "outputs": [],
   "source": [
    "URI = \"neo4j://localhost:7687\""
   ]
  },
  {
   "cell_type": "code",
   "execution_count": 6,
   "id": "125b475c-b15c-4f5f-8c7b-310e29b2245f",
   "metadata": {},
   "outputs": [],
   "source": [
    "def setup_db(driver: neo4j.Driver):\n",
    "    \"\"\"Create constraints/indices for DesignSafe entities\"\"\"\n",
    "    driver.execute_query(\"\"\"\n",
    "\n",
    "    CREATE INDEX entity_uuid IF NOT EXISTS FOR (e:Entity) ON e.uuid\n",
    "    \"\"\")\n",
    "\n",
    "\n",
    "def cleanup_db(driver: neo4j.Driver):\n",
    "    \"\"\"Clear all entries in the database\"\"\"\n",
    "    driver.execute_query(\"MATCH (n) DETACH DELETE n\")"
   ]
  },
  {
   "cell_type": "code",
   "execution_count": 7,
   "id": "60e69f3f-a775-40d9-8b4d-1f9c5d522563",
   "metadata": {},
   "outputs": [],
   "source": [
    "def ingest_entity(driver: neo4j.Driver, uuid: str, title: str, description: str, **kwargs):\n",
    "    \"\"\"\n",
    "    Ingest an entity in neo4j. Its properties will be the provided uuid/title/description \n",
    "    and any other provided kwargs.\n",
    "    \"\"\"\n",
    "    extra_fields = [f\"{k}: ${k}\" for k in kwargs]\n",
    "    extra_fields_str = \"\"\n",
    "    if extra_fields:\n",
    "        extra_fields_str = \", \" + \", \".join(extra_fields)\n",
    "    add_entity_query = \\\n",
    "    f\"\"\"\n",
    "    MERGE (e: Entity {{uuid: $uuid}})\n",
    "    SET e = {{uuid: $uuid}} // Allow properties to be unset with subsequent calls\n",
    "    SET e += {{ title: $title,\n",
    "                description: $description\n",
    "                {extra_fields_str}\n",
    "             }}\n",
    "    \"\"\"\n",
    "    driver.execute_query(add_entity_query, uuid=uuid, title=title, description=description, **kwargs)\n",
    "\n",
    "\n",
    "def ingest_entity_rel(driver: neo4j.Driver, parent_uuid: str, child_uuid: str, order: int=0):\n",
    "    \"\"\"\n",
    "    Create a :HAS_CHILD relationship in the graph between 2 nodes given their UUIDs\n",
    "    \"\"\"\n",
    "    add_rel_query = \\\n",
    "    \"\"\"\n",
    "    MATCH (parent:Entity {uuid: $parent_uuid}) \n",
    "    WITH parent \n",
    "    MATCH(child: Entity {uuid: $child_uuid}) \n",
    "    MERGE (parent)-[:HAS_CHILD {order: $order}]->(child)\n",
    "    \"\"\"\n",
    "    driver.execute_query(add_rel_query, parent_uuid=parent_uuid, child_uuid=child_uuid, order=order)\n"
   ]
  },
  {
   "cell_type": "code",
   "execution_count": 8,
   "id": "0fc76156-2d55-4385-86a3-979cc2b0672d",
   "metadata": {},
   "outputs": [],
   "source": [
    "pub_json = get_publication(\"PRJ-1811\")\n",
    "\n",
    "with GraphDatabase.driver(URI) as driver:\n",
    "    setup_db(driver)\n",
    "\n",
    "# Create a node in the neo4j graph for every node in the project tree\n",
    "with GraphDatabase.driver(URI) as driver:\n",
    "    pub_tree = nx.tree_graph(pub_json['tree'])\n",
    "    for node in pub_tree.nodes:\n",
    "        node_data = pub_tree.nodes[node]\n",
    "        title = node_data[\"value\"][\"title\"]\n",
    "        uuid = node\n",
    "        name = node_data[\"name\"]\n",
    "        meta_uuid = node_data[\"uuid\"]\n",
    "        description = node_data[\"value\"].get(\"description\", None)\n",
    "        ingest_entity(driver, uuid, title, description, name=name, meta_uuid=meta_uuid)\n"
   ]
  },
  {
   "cell_type": "code",
   "execution_count": 9,
   "id": "d3a25a0a-0c6b-4cee-a0a2-5e450b7b551a",
   "metadata": {},
   "outputs": [],
   "source": [
    "# Get a dictionary mapping each node ID to its parent in the tree\n",
    "dfs_pred = nx.dfs_predecessors(pub_tree, 'NODE_ROOT')\n",
    "\n",
    "# Go through each relationship and insert an edge in the graph\n",
    "with GraphDatabase.driver(URI) as driver:\n",
    "    for key in dfs_pred:\n",
    "        child_uuid = key\n",
    "        parent_uuid = dfs_pred[key]\n",
    "        order = pub_tree.nodes[key].get(\"order\", 0)\n",
    "        ingest_entity_rel(driver, parent_uuid, child_uuid, order)\n"
   ]
  },
  {
   "cell_type": "code",
   "execution_count": 10,
   "id": "f383ac55-7fa1-4540-aaab-a86d45753d46",
   "metadata": {},
   "outputs": [],
   "source": [
    "# Run this to clean up the db if something goes wrong\n",
    "with GraphDatabase.driver(URI) as driver:\n",
    "    cleanup_db(driver)"
   ]
  },
  {
   "cell_type": "code",
   "execution_count": null,
   "id": "60a25230",
   "metadata": {},
   "outputs": [],
   "source": []
  }
 ],
 "metadata": {
  "kernelspec": {
   "display_name": "Python 3 (ipykernel)",
   "language": "python",
   "name": "python3"
  }
 },
 "nbformat": 4,
 "nbformat_minor": 5
}
