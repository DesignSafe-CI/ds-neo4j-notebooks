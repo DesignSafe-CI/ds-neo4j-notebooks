{
 "cells": [
  {
   "cell_type": "code",
   "execution_count": null,
   "id": "9b1d6065-e3f5-41c8-b42f-3c8473f87ba4",
   "metadata": {},
   "outputs": [],
   "source": [
    "import os\n",
    "import json\n",
    "from openai import OpenAI\n",
    "import hashlib\n",
    "import redis\n",
    "EMBEDDING_MODEL = \"text-embedding-ada-002\" #\"text-embedding-3-large\"\n",
    "LARGE_EMBEDDING_MODEL = \"text-embedding-3-large\""
   ]
  },
  {
   "cell_type": "code",
   "execution_count": null,
   "id": "69eb337a-86ba-4876-ad90-b24e8df1f5a1",
   "metadata": {},
   "outputs": [],
   "source": [
    "client = OpenAI(api_key=os.environ.get(\"OPENAI_API_KEY\"))\n",
    "redis_client = redis.Redis(host='localhost', port=6379, db=0, decode_responses=True)\n",
    "\n",
    "client.get_api_list()"
   ]
  },
  {
   "cell_type": "code",
   "execution_count": null,
   "id": "bc7dac11-b0f1-4a2d-a40a-739df80e0688",
   "metadata": {},
   "outputs": [],
   "source": [
    "\n",
    "def get_embedding(client, text, model):\n",
    "    text_hash = hashlib.sha256(text.encode()).hexdigest()\n",
    "    cache_key = f\"{model}_{text_hash}\"\n",
    "    cached_response = redis_client.get(cache_key)\n",
    "\n",
    "    if cached_response:\n",
    "        print(\"found response in cache\")\n",
    "        return json.loads(cached_response)\n",
    "\n",
    "    print(\"no response in cache, obtaining embedding from LLM\")\n",
    "    response = client.embeddings.create(\n",
    "                    input=text,\n",
    "                    model=model,\n",
    "                )\n",
    "    \n",
    "    embedding = response.data[0].embedding\n",
    "    redis_client.set(cache_key, json.dumps(embedding))\n",
    "    return embedding"
   ]
  },
  {
   "cell_type": "code",
   "execution_count": null,
   "id": "a0d26747-e4e8-4e9a-a3a9-9ee3a603e28f",
   "metadata": {},
   "outputs": [],
   "source": [
    "resp1 = get_embedding(client, \"This is a text string to embed\", EMBEDDING_MODEL)"
   ]
  },
  {
   "cell_type": "code",
   "execution_count": null,
   "id": "8c6188fe-25c5-408f-947d-db4f44ef0caa",
   "metadata": {},
   "outputs": [],
   "source": [
    "resp2 = get_embedding(client, \"This is a text string to embed\", EMBEDDING_MODEL)"
   ]
  },
  {
   "cell_type": "code",
   "execution_count": null,
   "id": "49709d23-3753-4f55-844b-850031ef4c94",
   "metadata": {},
   "outputs": [],
   "source": [
    "len(resp1)"
   ]
  },
  {
   "cell_type": "code",
   "execution_count": null,
   "id": "71bc6166-7063-4466-8c9b-a7aa4570786f",
   "metadata": {},
   "outputs": [],
   "source": [
    "import neo4j\n",
    "from neo4j import GraphDatabase, RoutingControl\n",
    "import networkx as nx\n",
    "import requests\n",
    "\n",
    "NEO4J_URI = \"neo4j://localhost:7687\"\n",
    "\n",
    "TEXT_1 = \"This simulation uses ADCIRC to model storm surges in the gulf coast\"\n",
    "TEXT_2 = \"This experiment involved the user of 3D printing to investigate wind power in Texas.\"\n",
    "text1_embedding = get_embedding(client, TEXT_1, EMBEDDING_MODEL)\n",
    "text2_embedding = get_embedding(client, TEXT_2, EMBEDDING_MODEL)\n"
   ]
  },
  {
   "cell_type": "code",
   "execution_count": null,
   "id": "24a97d85-ed10-4a9c-ba55-e3831262a5da",
   "metadata": {},
   "outputs": [],
   "source": [
    "QUERY_TEXT = \"Find all wind hazard datasets with testing conducted in 2021\"\n",
    "query_embedding = get_embedding(client, QUERY_TEXT, EMBEDDING_MODEL)\n",
    "with GraphDatabase.driver(NEO4J_URI) as driver:\n",
    "    query = \"\"\"\n",
    "    CALL db.index.vector.queryNodes('designsafeEmbeddings', 5, $embedding)\n",
    "    YIELD node, score\n",
    "    MATCH (node)<-[r*1..]-(parent)\n",
    "    RETURN DISTINCT parent\n",
    "    \"\"\"\n",
    "    res = driver.execute_query(query, embedding=query_embedding)\n",
    "    for record in res.records:\n",
    "        print(dict(record))"
   ]
  },
  {
   "cell_type": "code",
   "execution_count": null,
   "id": "8dc8b57a-8935-415d-87bd-2c3c349b17fd",
   "metadata": {},
   "outputs": [],
   "source": [
    "QUERY_TEXT = \"List and count how many projects involve 'Barbara Simpson'\"\n",
    "query_embedding = get_embedding(client, QUERY_TEXT, EMBEDDING_MODEL)\n",
    "with GraphDatabase.driver(NEO4J_URI) as driver:\n",
    "    query = \"\"\"\n",
    "    CALL db.index.vector.queryNodes('designsafeEmbeddings', 5, $embedding)\n",
    "    YIELD node, score\n",
    "    MATCH (node)<-[r*1..]-(parent)\n",
    "    RETURN DISTINCT parent\n",
    "    \"\"\"\n",
    "    res = driver.execute_query(query, embedding=query_embedding)\n",
    "    for record in res.records:\n",
    "        print(dict(record))"
   ]
  },
  {
   "cell_type": "code",
   "execution_count": null,
   "id": "a1fcc41b-09ef-4acd-8e55-be1dd5aa2819",
   "metadata": {},
   "outputs": [],
   "source": [
    "QUERY_TEXT = \"Identify complementary datasets for validating ML-based seismic response prediction across different structural typologies and scales\"\n",
    "query_embedding = get_embedding(client, QUERY_TEXT, EMBEDDING_MODEL)\n",
    "with GraphDatabase.driver(NEO4J_URI) as driver:\n",
    "    query = \"\"\"\n",
    "    CALL db.index.vector.queryNodes('designsafeEmbeddings', 5, $embedding)\n",
    "    YIELD node, score\n",
    "    MATCH (node)<-[r*1..]-(parent)\n",
    "    RETURN DISTINCT parent\n",
    "    \"\"\"\n",
    "    res = driver.execute_query(query, embedding=query_embedding)\n",
    "    for record in res.records:\n",
    "        print(dict(record))"
   ]
  },
  {
   "cell_type": "code",
   "execution_count": null,
   "id": "76d6ea2a-0121-4509-8340-e0d9f4e05668",
   "metadata": {},
   "outputs": [],
   "source": [
    "QUERY_TEXT = \"Identify complementary datasets for validating ML-based seismic response prediction across different structural typologies and scales\"\n",
    "query_embedding = get_embedding(client, QUERY_TEXT, EMBEDDING_MODEL)\n",
    "with GraphDatabase.driver(NEO4J_URI) as driver:\n",
    "    query = \"\"\"\n",
    "    CALL db.index.vector.queryNodes('designsafeEmbeddings', 5, $embedding)\n",
    "    YIELD node, score\n",
    "    MATCH (node)<-[r*1..]-(parent)\n",
    "    RETURN DISTINCT parent\n",
    "    \"\"\"\n",
    "    res = driver.execute_query(query, embedding=query_embedding)\n",
    "    for record in res.records:\n",
    "        print(dict(record))"
   ]
  },
  {
   "cell_type": "code",
   "execution_count": null,
   "id": "a314739b-45ac-41c4-9dba-f3f3d52db269",
   "metadata": {},
   "outputs": [],
   "source": [
    "QUERY_TEXT = \"Identify complementary datasets for validating ML-based seismic response prediction across different structural typologies and scales\"\n",
    "query_embedding = get_embedding(client, QUERY_TEXT, EMBEDDING_MODEL)\n",
    "with GraphDatabase.driver(NEO4J_URI) as driver:\n",
    "    query = \"\"\"\n",
    "    CALL db.index.vector.queryNodes('designsafeEmbeddings', 5, $embedding)\n",
    "    YIELD node, score\n",
    "    MATCH (node)<-[r*1..]-(parent)\n",
    "    RETURN DISTINCT parent\n",
    "    \"\"\"\n",
    "    res = driver.execute_query(query, embedding=query_embedding)\n",
    "    for record in res.records:\n",
    "        print(dict(record))"
   ]
  },
  {
   "cell_type": "code",
   "execution_count": null,
   "id": "f731376e-cc12-4e21-b234-9aaa71702366",
   "metadata": {},
   "outputs": [],
   "source": [
    "QUERY_TEXT = \"Identify complementary datasets for validating ML-based seismic response prediction across different structural typologies and scales\"\n",
    "query_embedding = get_embedding(client, QUERY_TEXT, EMBEDDING_MODEL)\n",
    "with GraphDatabase.driver(NEO4J_URI) as driver:\n",
    "    query = \"\"\"\n",
    "    CALL db.index.vector.queryNodes('designsafeEmbeddings', 5, $embedding)\n",
    "    YIELD node, score\n",
    "    MATCH (node)<-[r*1..]-(parent)\n",
    "    RETURN DISTINCT parent\n",
    "    \"\"\"\n",
    "    res = driver.execute_query(query, embedding=query_embedding)\n",
    "    for record in res.records:\n",
    "        print(dict(record))"
   ]
  }
 ],
 "metadata": {
  "kernelspec": {
   "display_name": "Python 3 (ipykernel)",
   "language": "python",
   "name": "python3"
  },
  "language_info": {
   "codemirror_mode": {
    "name": "ipython",
    "version": 3
   },
   "file_extension": ".py",
   "mimetype": "text/x-python",
   "name": "python",
   "nbconvert_exporter": "python",
   "pygments_lexer": "ipython3",
   "version": "3.12.9"
  }
 },
 "nbformat": 4,
 "nbformat_minor": 5
}
