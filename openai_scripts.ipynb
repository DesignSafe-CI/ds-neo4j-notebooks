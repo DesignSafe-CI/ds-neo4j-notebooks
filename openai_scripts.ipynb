{
 "cells": [
  {
   "cell_type": "code",
   "execution_count": 1,
   "id": "9b1d6065-e3f5-41c8-b42f-3c8473f87ba4",
   "metadata": {},
   "outputs": [],
   "source": [
    "import os\n",
    "import json\n",
    "from openai import OpenAI\n",
    "import hashlib\n",
    "import redis\n",
    "EMBEDDING_MODEL = \"text-embedding-ada-002\" #\"text-embedding-3-large\"\n",
    "LARGE_EMBEDDING_MODEL = \"text-embedding-3-large\""
   ]
  },
  {
   "cell_type": "code",
   "execution_count": 2,
   "id": "69eb337a-86ba-4876-ad90-b24e8df1f5a1",
   "metadata": {},
   "outputs": [],
   "source": [
    "client = OpenAI(api_key=os.environ.get(\"OPENAI_API_KEY\"))\n",
    "redis_client = redis.Redis(host='localhost', port=6379, db=0, decode_responses=True)"
   ]
  },
  {
   "cell_type": "code",
   "execution_count": 3,
   "id": "bc7dac11-b0f1-4a2d-a40a-739df80e0688",
   "metadata": {},
   "outputs": [],
   "source": [
    "\n",
    "def get_embedding(client, text, model):\n",
    "    text_hash = hashlib.sha256(text.encode()).hexdigest()\n",
    "    cache_key = f\"{model}_{text_hash}\"\n",
    "    cached_response = redis_client.get(cache_key)\n",
    "\n",
    "    if cached_response:\n",
    "        print(\"found response in cache\")\n",
    "        return json.loads(cached_response)\n",
    "\n",
    "    print(\"no response in cache, obtaining embedding from LLM\")\n",
    "    response = client.embeddings.create(\n",
    "                    input=text,\n",
    "                    model=model,\n",
    "                )\n",
    "    \n",
    "    embedding = response.data[0].embedding\n",
    "    redis_client.set(cache_key, json.dumps(embedding))\n",
    "    return embedding"
   ]
  },
  {
   "cell_type": "code",
   "execution_count": 77,
   "id": "a0d26747-e4e8-4e9a-a3a9-9ee3a603e28f",
   "metadata": {},
   "outputs": [
    {
     "name": "stdout",
     "output_type": "stream",
     "text": [
      "no response in cache, obtaining embedding from LLM\n"
     ]
    }
   ],
   "source": [
    "resp1 = get_embedding(client, \"This is a text string to embed\", EMBEDDING_MODEL)"
   ]
  },
  {
   "cell_type": "code",
   "execution_count": 78,
   "id": "8c6188fe-25c5-408f-947d-db4f44ef0caa",
   "metadata": {},
   "outputs": [
    {
     "name": "stdout",
     "output_type": "stream",
     "text": [
      "found response in cache\n"
     ]
    }
   ],
   "source": [
    "resp2 = get_embedding(client, \"This is a text string to embed\", EMBEDDING_MODEL)"
   ]
  },
  {
   "cell_type": "code",
   "execution_count": 83,
   "id": "49709d23-3753-4f55-844b-850031ef4c94",
   "metadata": {},
   "outputs": [
    {
     "data": {
      "text/plain": [
       "1536"
      ]
     },
     "execution_count": 83,
     "metadata": {},
     "output_type": "execute_result"
    }
   ],
   "source": [
    "len(resp1)"
   ]
  },
  {
   "cell_type": "code",
   "execution_count": 5,
   "id": "71bc6166-7063-4466-8c9b-a7aa4570786f",
   "metadata": {},
   "outputs": [
    {
     "name": "stdout",
     "output_type": "stream",
     "text": [
      "found response in cache\n",
      "found response in cache\n"
     ]
    }
   ],
   "source": [
    "import neo4j\n",
    "from neo4j import GraphDatabase, RoutingControl\n",
    "import networkx as nx\n",
    "import requests\n",
    "\n",
    "NEO4J_URI = \"neo4j://localhost:7687\"\n",
    "\n",
    "TEXT_1 = \"This simulation uses ADCIRC to model storm surges in the gulf coast\"\n",
    "TEXT_2 = \"This experiment involved the user of 3D printing to investigate wind power in Texas.\"\n",
    "text1_embedding = get_embedding(client, TEXT_1, EMBEDDING_MODEL)\n",
    "text2_embedding = get_embedding(client, TEXT_2, EMBEDDING_MODEL)\n",
    "\n",
    "with GraphDatabase.driver(NEO4J_URI) as driver:\n",
    "    query = \"\"\"\n",
    "    MERGE (e:Embedding {text: $text, embedding: $embedding})\n",
    "    \"\"\"\n",
    "    driver.execute_query(query, text=TEXT_1, embedding=text1_embedding)\n",
    "    driver.execute_query(query, text=TEXT_2, embedding=text2_embedding)"
   ]
  },
  {
   "cell_type": "code",
   "execution_count": 15,
   "id": "24a97d85-ed10-4a9c-ba55-e3831262a5da",
   "metadata": {},
   "outputs": [
    {
     "name": "stdout",
     "output_type": "stream",
     "text": [
      "no response in cache, obtaining embedding from LLM\n",
      "EagerResult(records=[<Record p=<Node element_id='4:4999daec-1aa7-4f85-a3b5-f5fdea73685e:75' labels=frozenset({'Entity', 'designsafe_project_hybrid_simulation_exp_substructure'}) properties={'meta_uuid': '4555910888240058856-242ac11e-0001-012', 'name': 'designsafe.project.hybrid_simulation.exp_substructure', 'description': 'MTS Controller for the shake table.', 'title': 'Rigid Mass on Seismic Isolators', 'uuid': 'NODE_cb06483b-7b27-4260-a752-01056f9d0371'}> node.text='Rigid Mass on Seismic Isolators'>], summary=<neo4j._work.summary.ResultSummary object at 0x108552240>, keys=['p', 'node.text'])\n"
     ]
    }
   ],
   "source": [
    "QUERY_TEXT = \"rigid mass\"\n",
    "query_embedding = get_embedding(client, QUERY_TEXT, EMBEDDING_MODEL)\n",
    "with GraphDatabase.driver(NEO4J_URI) as driver:\n",
    "    query = \"\"\"\n",
    "    CALL db.index.vector.queryNodes('designsafeEmbeddings', 1, $embedding)\n",
    "    YIELD node, score\n",
    "    MATCH (node)<-[:HAS_EMBEDDING]-(p:Entity)\n",
    "    RETURN p, node.text\n",
    "    \"\"\"\n",
    "    res = driver.execute_query(query, embedding=query_embedding)\n",
    "    print(res)"
   ]
  },
  {
   "cell_type": "code",
   "execution_count": null,
   "id": "8dc8b57a-8935-415d-87bd-2c3c349b17fd",
   "metadata": {},
   "outputs": [],
   "source": []
  }
 ],
 "metadata": {
  "kernelspec": {
   "display_name": "Python 3 (ipykernel)",
   "language": "python",
   "name": "python3"
  },
  "language_info": {
   "codemirror_mode": {
    "name": "ipython",
    "version": 3
   },
   "file_extension": ".py",
   "mimetype": "text/x-python",
   "name": "python",
   "nbconvert_exporter": "python",
   "pygments_lexer": "ipython3",
   "version": "3.12.9"
  }
 },
 "nbformat": 4,
 "nbformat_minor": 5
}
